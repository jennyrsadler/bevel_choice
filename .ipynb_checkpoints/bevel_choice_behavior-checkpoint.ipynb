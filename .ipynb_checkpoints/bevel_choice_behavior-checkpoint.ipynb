{
 "cells": [
  {
   "cell_type": "markdown",
   "metadata": {},
   "source": [
    "# Bevel Choice Behavior Notebook"
   ]
  },
  {
   "cell_type": "code",
   "execution_count": 1,
   "metadata": {},
   "outputs": [],
   "source": [
    "#imports\n",
    "import os\n",
    "import glob\n",
    "import pandas as pd"
   ]
  },
  {
   "cell_type": "markdown",
   "metadata": {},
   "source": [
    "For one file... import data "
   ]
  },
  {
   "cell_type": "code",
   "execution_count": 4,
   "metadata": {},
   "outputs": [
    {
     "name": "stdout",
     "output_type": "stream",
     "text": [
      "/Users/jennygilbert/Documents/bevel_choice_computations/by_participant_txtfiles\n",
      "     ID    run img_pair choice  side outcome     matched        RT\n",
      "0     1  run01       EF      F     1  reward  mismatched  1.569796\n",
      "1     1  run01       CD      D     2  punish     matched  1.601124\n",
      "2     1  run01       CD      D     2  punish     matched  1.600702\n",
      "3     1  run01     Miss   Miss  Miss    Miss        Miss      Miss\n",
      "4     1  run01       AB      A     2  reward     matched  1.580793\n",
      "5     1  run01       AB      B     2  reward  mismatched  1.564219\n",
      "6     1  run01       AB      B     1  punish     matched  1.612839\n",
      "7     1  run01       CD      D     2  punish     matched  1.594208\n",
      "8     1  run01       CD      C     1  reward     matched  1.611155\n",
      "9     1  run01       AB      A     1  punish  mismatched  1.594223\n",
      "10    1  run01       EF      F     2  reward  mismatched  1.593177\n",
      "11    1  run01       CD      D     2  punish     matched  1.590463\n",
      "12    1  run01       AB      A     2  punish  mismatched  1.590193\n",
      "13    1  run01       CD      C     1  reward     matched  1.605062\n",
      "14    1  run01       CD      C     1  reward     matched  1.605347\n",
      "15    1  run01       AB      A     1  punish  mismatched  1.587054\n",
      "16    1  run01       CD      D     1  punish     matched  1.602987\n",
      "17    1  run01       AB      A     1  reward     matched  1.602018\n",
      "18    1  run01       AB      B     2  punish     matched  1.600867\n",
      "19    1  run01       EF      E     2  reward     matched  1.582977\n",
      "20    1  run01     Miss   Miss  Miss    Miss        Miss      Miss\n",
      "21    1  run01       AB      A     2  reward     matched  1.614960\n",
      "22    1  run01       AB      B     1  reward  mismatched  1.580498\n",
      "23    1  run01       CD      C     2  reward     matched  1.596363\n",
      "24    1  run01       AB      A     1  reward     matched  1.596714\n",
      "25    1  run01     Miss   Miss  Miss    Miss        Miss      Miss\n",
      "26    1  run02       EF      F     1  reward  mismatched  1.567948\n",
      "27    1  run02       CD      D     1  reward  mismatched  1.583463\n",
      "28    1  run02       AB      A     1  reward     matched  1.600016\n",
      "29    1  run02       AB      B     2  punish     matched  1.599418\n",
      "..   ..    ...      ...    ...   ...     ...         ...       ...\n",
      "74    1  run03       AB      A     2  reward     matched  1.600248\n",
      "75    1  run03       CD      C     2  reward     matched  1.615614\n",
      "76    1  run03       AB      B     2  reward  mismatched  1.609683\n",
      "77    1  run03       AB      B     1  punish     matched  1.609303\n",
      "78    1  run04       AB      A     1  reward     matched  1.567914\n",
      "79    1  run04       CD      C     2  punish  mismatched  1.566817\n",
      "80    1  run04       AB      A     1  reward     matched  1.600015\n",
      "81    1  run04       EF      E     2  punish  mismatched  1.597668\n",
      "82    1  run04       EF      F     2  reward  mismatched  1.579999\n",
      "83    1  run04       EF      F     2  punish     matched  1.579331\n",
      "84    1  run04       AB      A     1  reward     matched  1.595599\n",
      "85    1  run04       CD      C     1  reward     matched  1.610148\n",
      "86    1  run04       AB      B     2  punish     matched  1.593779\n",
      "87    1  run04       AB      B     2  punish     matched  1.592215\n",
      "88    1  run04     Miss   Miss  Miss    Miss        Miss      Miss\n",
      "89    1  run04     Miss   Miss  Miss    Miss        Miss      Miss\n",
      "90    1  run04       EF      E     2  reward     matched  1.571638\n",
      "91    1  run04       EF      F     1  reward  mismatched  1.603959\n",
      "92    1  run04       EF      E     2  punish  mismatched  1.586667\n",
      "93    1  run04       AB      A     2  reward     matched  1.602250\n",
      "94    1  run04       CD      C     1  reward     matched  1.602497\n",
      "95    1  run04       AB      B     2  punish     matched  1.583664\n",
      "96    1  run04       CD      C     1  reward     matched  1.600436\n",
      "97    1  run04       AB      B     2  reward  mismatched  1.582885\n",
      "98    1  run04       CD      D     1  reward  mismatched  1.598864\n",
      "99    1  run04     Miss   Miss  Miss    Miss        Miss      Miss\n",
      "100   1  run04       AB      B     2  punish     matched  1.596398\n",
      "101   1  run04       CD      D     2  punish     matched  1.610596\n",
      "102   1  run04       AB      A     2  reward     matched  1.576546\n",
      "103   1  run04       AB      A     2  reward     matched  1.608679\n",
      "\n",
      "[104 rows x 8 columns]\n"
     ]
    }
   ],
   "source": [
    "path = '/Users/jennygilbert/Documents/bevel_choice_computations/by_participant_txtfiles'\n",
    "print(path)\n",
    "\n",
    "data = pd.read_csv(os.path.join(path,'01.txt'), sep='\\t', header = None, names = ['ID','run','img_pair','choice','side','outcome','matched','RT'])\n",
    "print(data)"
   ]
  },
  {
   "cell_type": "code",
   "execution_count": null,
   "metadata": {},
   "outputs": [],
   "source": []
  }
 ],
 "metadata": {
  "kernelspec": {
   "display_name": "Python 3",
   "language": "python",
   "name": "python3"
  },
  "language_info": {
   "codemirror_mode": {
    "name": "ipython",
    "version": 3
   },
   "file_extension": ".py",
   "mimetype": "text/x-python",
   "name": "python",
   "nbconvert_exporter": "python",
   "pygments_lexer": "ipython3",
   "version": "3.7.1"
  }
 },
 "nbformat": 4,
 "nbformat_minor": 2
}
